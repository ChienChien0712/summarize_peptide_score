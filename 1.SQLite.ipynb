{
 "cells": [
  {
   "cell_type": "code",
   "execution_count": 76,
   "metadata": {},
   "outputs": [],
   "source": [
    "import numpy as np\n",
    "import pandas as pd\n",
    "import sqlite3\n",
    "import time\n",
    "import os"
   ]
  },
  {
   "cell_type": "markdown",
   "metadata": {},
   "source": [
    "# Create Data Converter when Importing File\n",
    "### Decoy = 1\n",
    "### Target = 0\n",
    "### D / T    = 0.5"
   ]
  },
  {
   "cell_type": "code",
   "execution_count": 47,
   "metadata": {},
   "outputs": [],
   "source": [
    "#Check Target-Decoy and change to T/F:\n",
    "def TDcheck(protein_ls):\n",
    "    protein_ls = protein_ls.split(';')\n",
    "    if any('XXX' in s for s in protein_ls):\n",
    "        if any('XXX' not in s for s in protein_ls):\n",
    "            return 0.5\n",
    "        else:\n",
    "            return 1\n",
    "    else:\n",
    "        return 0\n",
    "    \n",
    "\n",
    "    "
   ]
  },
  {
   "cell_type": "markdown",
   "metadata": {},
   "source": [
    "# Create a Database"
   ]
  },
  {
   "cell_type": "code",
   "execution_count": 78,
   "metadata": {},
   "outputs": [],
   "source": [
    "Database = sqlite3.connect('./test.db')"
   ]
  },
  {
   "cell_type": "code",
   "execution_count": 56,
   "metadata": {},
   "outputs": [],
   "source": [
    "PSMQthreshold =1000000"
   ]
  },
  {
   "cell_type": "markdown",
   "metadata": {},
   "source": [
    "# (TXT) Reading File & Writing to SQL Database"
   ]
  },
  {
   "cell_type": "code",
   "execution_count": 99,
   "metadata": {},
   "outputs": [
    {
     "name": "stderr",
     "output_type": "stream",
     "text": [
      "C:\\Users\\chienhua\\anaconda3\\lib\\site-packages\\ipykernel_launcher.py:13: UserWarning: The spaces in these column names will not be changed. In pandas versions < 0.14, spaces were converted to underscores.\n",
      "  del sys.path[0]\n"
     ]
    },
    {
     "name": "stdout",
     "output_type": "stream",
     "text": [
      "[fOCb4_N1_refseq-peptable - 複製 - 複製.txt] read:0.0, saveSQL:0.1\n",
      "[fOCb4_N1_refseq-peptable - 複製.txt] read:0.0, saveSQL:0.1\n"
     ]
    }
   ],
   "source": [
    "ID = [i for i in os.listdir('./input1') if i[-4:] == '.txt']\n",
    "\n",
    "\n",
    "for i in ID:\n",
    "    readfile_s = time.time()\n",
    "    file = pd.read_csv('./input1/%s'%i,sep='\\t',header=0,\n",
    "                     usecols=['Peptide sequence', 'Protein(s)','percolator svm-score','PSM q-value'],\n",
    "                     converters={'Protein(s)':TDcheck})\n",
    "    file = file.loc[file['PSM q-value'] < PSMQthreshold].loc[:,['Peptide sequence', 'Protein(s)','percolator svm-score']]\n",
    "    readfile_e = time.time()\n",
    "    \n",
    "    tosql_s = time.time()\n",
    "    pd.io.sql.to_sql(file,'data',con=Database,if_exists='append',index=False)\n",
    "    tosql_e = time.time()\n",
    "    \n",
    "    print('[f%s] read:%.1f, saveSQL:%.1f'%(i,readfile_e-readfile_s,tosql_e-tosql_s))\n"
   ]
  },
  {
   "cell_type": "markdown",
   "metadata": {},
   "source": [
    "# Remain MAX(percolator svm-score)"
   ]
  },
  {
   "cell_type": "code",
   "execution_count": 64,
   "metadata": {},
   "outputs": [
    {
     "ename": "OperationalError",
     "evalue": "row value misused",
     "output_type": "error",
     "traceback": [
      "\u001b[1;31m---------------------------------------------------------------------------\u001b[0m",
      "\u001b[1;31mOperationalError\u001b[0m                          Traceback (most recent call last)",
      "\u001b[1;32m<ipython-input-64-a14fd5d3cc76>\u001b[0m in \u001b[0;36m<module>\u001b[1;34m\u001b[0m\n\u001b[0;32m      5\u001b[0m \u001b[1;31m# Delete same value\u001b[0m\u001b[1;33m\u001b[0m\u001b[1;33m\u001b[0m\u001b[1;33m\u001b[0m\u001b[0m\n\u001b[0;32m      6\u001b[0m \u001b[0msql_command\u001b[0m \u001b[1;33m=\u001b[0m \u001b[1;34m'DELETE FROM data WHERE ROWID NOT IN (SELECT MIN(ROWID) FROM data GROUP BY (`Peptide sequence`,`Protein(s)`,`percolator svm-score`))'\u001b[0m\u001b[1;33m\u001b[0m\u001b[1;33m\u001b[0m\u001b[0m\n\u001b[1;32m----> 7\u001b[1;33m \u001b[0mDatabase\u001b[0m\u001b[1;33m.\u001b[0m\u001b[0mexecute\u001b[0m\u001b[1;33m(\u001b[0m\u001b[0msql_command\u001b[0m\u001b[1;33m)\u001b[0m\u001b[1;33m\u001b[0m\u001b[1;33m\u001b[0m\u001b[0m\n\u001b[0m\u001b[0;32m      8\u001b[0m \u001b[1;33m\u001b[0m\u001b[0m\n\u001b[0;32m      9\u001b[0m \u001b[1;33m\u001b[0m\u001b[0m\n",
      "\u001b[1;31mOperationalError\u001b[0m: row value misused"
     ]
    }
   ],
   "source": [
    "# Remain MAX(percolator svm-score)\n",
    "delete_s = time.time()\n",
    "#sql_command = 'DELETE FROM data WHERE (`Peptide sequence`,`percolator svm-score`) NOT IN (select `Peptide sequence`,MAX(`percolator svm-score`) from data GROUP BY `Peptide sequence`)'\n",
    "#Database.execute(sql_command)\n",
    "# Delete same value\n",
    "sql_command = 'DELETE FROM data WHERE ROWID NOT IN (SELECT MIN(ROWID) FROM data GROUP BY `Peptide sequence`)'\n",
    "Database.execute(sql_command)\n",
    "\n",
    "\n",
    "delete_e = time.time()\n",
    "\n",
    "print('delete:%.1f sec.'%(delete_e-delete_s))"
   ]
  },
  {
   "cell_type": "code",
   "execution_count": 104,
   "metadata": {},
   "outputs": [
    {
     "data": {
      "text/html": [
       "<div>\n",
       "<style scoped>\n",
       "    .dataframe tbody tr th:only-of-type {\n",
       "        vertical-align: middle;\n",
       "    }\n",
       "\n",
       "    .dataframe tbody tr th {\n",
       "        vertical-align: top;\n",
       "    }\n",
       "\n",
       "    .dataframe thead th {\n",
       "        text-align: right;\n",
       "    }\n",
       "</style>\n",
       "<table border=\"1\" class=\"dataframe\">\n",
       "  <thead>\n",
       "    <tr style=\"text-align: right;\">\n",
       "      <th></th>\n",
       "      <th>Peptide sequence</th>\n",
       "      <th>Protein(s)</th>\n",
       "      <th>percolator svm-score</th>\n",
       "    </tr>\n",
       "  </thead>\n",
       "  <tbody>\n",
       "    <tr>\n",
       "      <th>0</th>\n",
       "      <td>+229.163MTQIMFETFNTPAMYVAIQAVLSLYASGR</td>\n",
       "      <td>0</td>\n",
       "      <td>6.80</td>\n",
       "    </tr>\n",
       "    <tr>\n",
       "      <th>1</th>\n",
       "      <td>-17.027QGQIIYNWQGAQSTQDEVAASAILTAQLDEELGGTPVQSR</td>\n",
       "      <td>0</td>\n",
       "      <td>5.52</td>\n",
       "    </tr>\n",
       "  </tbody>\n",
       "</table>\n",
       "</div>"
      ],
      "text/plain": [
       "                                  Peptide sequence  Protein(s)  \\\n",
       "0            +229.163MTQIMFETFNTPAMYVAIQAVLSLYASGR           0   \n",
       "1  -17.027QGQIIYNWQGAQSTQDEVAASAILTAQLDEELGGTPVQSR           0   \n",
       "\n",
       "   percolator svm-score  \n",
       "0                  6.80  \n",
       "1                  5.52  "
      ]
     },
     "execution_count": 104,
     "metadata": {},
     "output_type": "execute_result"
    }
   ],
   "source": [
    "sql_command = 'DELETE FROM data WHERE ROWID NOT IN (SELECT MIN(ROWID) FROM data GROUP BY `Peptide sequence`)'\n",
    "Database.execute(sql_command)\n",
    "pd.read_sql('SELECT * FROM data', Database)"
   ]
  },
  {
   "cell_type": "code",
   "execution_count": 101,
   "metadata": {},
   "outputs": [
    {
     "data": {
      "text/html": [
       "<div>\n",
       "<style scoped>\n",
       "    .dataframe tbody tr th:only-of-type {\n",
       "        vertical-align: middle;\n",
       "    }\n",
       "\n",
       "    .dataframe tbody tr th {\n",
       "        vertical-align: top;\n",
       "    }\n",
       "\n",
       "    .dataframe thead th {\n",
       "        text-align: right;\n",
       "    }\n",
       "</style>\n",
       "<table border=\"1\" class=\"dataframe\">\n",
       "  <thead>\n",
       "    <tr style=\"text-align: right;\">\n",
       "      <th></th>\n",
       "      <th>Peptide sequence</th>\n",
       "      <th>Protein(s)</th>\n",
       "      <th>percolator svm-score</th>\n",
       "      <th>rowid</th>\n",
       "    </tr>\n",
       "  </thead>\n",
       "  <tbody>\n",
       "    <tr>\n",
       "      <th>0</th>\n",
       "      <td>+229.163MTQIMFETFNTPAMYVAIQAVLSLYASGR</td>\n",
       "      <td>0</td>\n",
       "      <td>6.80</td>\n",
       "      <td>1</td>\n",
       "    </tr>\n",
       "    <tr>\n",
       "      <th>1</th>\n",
       "      <td>+229.163MTQIMFETFNTPAMYVAIQAVLSLYASGR</td>\n",
       "      <td>0</td>\n",
       "      <td>6.90</td>\n",
       "      <td>3</td>\n",
       "    </tr>\n",
       "    <tr>\n",
       "      <th>2</th>\n",
       "      <td>-17.027QGQIIYNWQGAQSTQDEVAASAILTAQLDEELGGTPVQSR</td>\n",
       "      <td>0</td>\n",
       "      <td>5.52</td>\n",
       "      <td>2</td>\n",
       "    </tr>\n",
       "  </tbody>\n",
       "</table>\n",
       "</div>"
      ],
      "text/plain": [
       "                                  Peptide sequence  Protein(s)  \\\n",
       "0            +229.163MTQIMFETFNTPAMYVAIQAVLSLYASGR           0   \n",
       "1            +229.163MTQIMFETFNTPAMYVAIQAVLSLYASGR           0   \n",
       "2  -17.027QGQIIYNWQGAQSTQDEVAASAILTAQLDEELGGTPVQSR           0   \n",
       "\n",
       "   percolator svm-score  rowid  \n",
       "0                  6.80      1  \n",
       "1                  6.90      3  \n",
       "2                  5.52      2  "
      ]
     },
     "execution_count": 101,
     "metadata": {},
     "output_type": "execute_result"
    }
   ],
   "source": [
    "sql_command = 'SELECT *,ROWID FROM data GROUP BY `Peptide sequence`,`percolator svm-score`'\n",
    "pd.read_sql(sql_command, Database)"
   ]
  },
  {
   "cell_type": "code",
   "execution_count": 100,
   "metadata": {},
   "outputs": [
    {
     "data": {
      "text/html": [
       "<div>\n",
       "<style scoped>\n",
       "    .dataframe tbody tr th:only-of-type {\n",
       "        vertical-align: middle;\n",
       "    }\n",
       "\n",
       "    .dataframe tbody tr th {\n",
       "        vertical-align: top;\n",
       "    }\n",
       "\n",
       "    .dataframe thead th {\n",
       "        text-align: right;\n",
       "    }\n",
       "</style>\n",
       "<table border=\"1\" class=\"dataframe\">\n",
       "  <thead>\n",
       "    <tr style=\"text-align: right;\">\n",
       "      <th></th>\n",
       "      <th>Peptide sequence</th>\n",
       "      <th>Protein(s)</th>\n",
       "      <th>percolator svm-score</th>\n",
       "    </tr>\n",
       "  </thead>\n",
       "  <tbody>\n",
       "    <tr>\n",
       "      <th>0</th>\n",
       "      <td>+229.163MTQIMFETFNTPAMYVAIQAVLSLYASGR</td>\n",
       "      <td>0</td>\n",
       "      <td>6.80</td>\n",
       "    </tr>\n",
       "    <tr>\n",
       "      <th>1</th>\n",
       "      <td>-17.027QGQIIYNWQGAQSTQDEVAASAILTAQLDEELGGTPVQSR</td>\n",
       "      <td>0</td>\n",
       "      <td>5.52</td>\n",
       "    </tr>\n",
       "    <tr>\n",
       "      <th>2</th>\n",
       "      <td>+229.163MTQIMFETFNTPAMYVAIQAVLSLYASGR</td>\n",
       "      <td>0</td>\n",
       "      <td>6.90</td>\n",
       "    </tr>\n",
       "    <tr>\n",
       "      <th>3</th>\n",
       "      <td>-17.027QGQIIYNWQGAQSTQDEVAASAILTAQLDEELGGTPVQSR</td>\n",
       "      <td>0</td>\n",
       "      <td>5.52</td>\n",
       "    </tr>\n",
       "    <tr>\n",
       "      <th>4</th>\n",
       "      <td>+229.163MTQIMFETFNTPAMYVAIQAVLSLYASGR</td>\n",
       "      <td>0</td>\n",
       "      <td>6.80</td>\n",
       "    </tr>\n",
       "    <tr>\n",
       "      <th>5</th>\n",
       "      <td>-17.027QGQIIYNWQGAQSTQDEVAASAILTAQLDEELGGTPVQSR</td>\n",
       "      <td>0</td>\n",
       "      <td>5.52</td>\n",
       "    </tr>\n",
       "  </tbody>\n",
       "</table>\n",
       "</div>"
      ],
      "text/plain": [
       "                                  Peptide sequence  Protein(s)  \\\n",
       "0            +229.163MTQIMFETFNTPAMYVAIQAVLSLYASGR           0   \n",
       "1  -17.027QGQIIYNWQGAQSTQDEVAASAILTAQLDEELGGTPVQSR           0   \n",
       "2            +229.163MTQIMFETFNTPAMYVAIQAVLSLYASGR           0   \n",
       "3  -17.027QGQIIYNWQGAQSTQDEVAASAILTAQLDEELGGTPVQSR           0   \n",
       "4            +229.163MTQIMFETFNTPAMYVAIQAVLSLYASGR           0   \n",
       "5  -17.027QGQIIYNWQGAQSTQDEVAASAILTAQLDEELGGTPVQSR           0   \n",
       "\n",
       "   percolator svm-score  \n",
       "0                  6.80  \n",
       "1                  5.52  \n",
       "2                  6.90  \n",
       "3                  5.52  \n",
       "4                  6.80  \n",
       "5                  5.52  "
      ]
     },
     "execution_count": 100,
     "metadata": {},
     "output_type": "execute_result"
    }
   ],
   "source": [
    "pd.read_sql('SELECT * FROM data', Database)"
   ]
  },
  {
   "cell_type": "code",
   "execution_count": 34,
   "metadata": {},
   "outputs": [
    {
     "data": {
      "text/plain": [
       "44118"
      ]
     },
     "execution_count": 34,
     "metadata": {},
     "output_type": "execute_result"
    }
   ],
   "source": [
    "22059*2"
   ]
  },
  {
   "cell_type": "markdown",
   "metadata": {},
   "source": [
    "# Select all data by descending `percolator svm-score`"
   ]
  },
  {
   "cell_type": "code",
   "execution_count": 60,
   "metadata": {},
   "outputs": [
    {
     "data": {
      "text/plain": [
       "\"\\ndf0 = pd.read_sql('SELECT * FROM data ORDER BY `percolator svm-score` DESC', Database)\\ndf0\\n\""
      ]
     },
     "execution_count": 60,
     "metadata": {},
     "output_type": "execute_result"
    }
   ],
   "source": [
    "'''\n",
    "df0 = pd.read_sql('SELECT * FROM data ORDER BY `percolator svm-score` DESC', Database)\n",
    "df0\n",
    "'''"
   ]
  },
  {
   "cell_type": "code",
   "execution_count": 59,
   "metadata": {},
   "outputs": [
    {
     "data": {
      "text/html": [
       "<div>\n",
       "<style scoped>\n",
       "    .dataframe tbody tr th:only-of-type {\n",
       "        vertical-align: middle;\n",
       "    }\n",
       "\n",
       "    .dataframe tbody tr th {\n",
       "        vertical-align: top;\n",
       "    }\n",
       "\n",
       "    .dataframe thead th {\n",
       "        text-align: right;\n",
       "    }\n",
       "</style>\n",
       "<table border=\"1\" class=\"dataframe\">\n",
       "  <thead>\n",
       "    <tr style=\"text-align: right;\">\n",
       "      <th></th>\n",
       "      <th>Peptide sequence</th>\n",
       "      <th>Protein(s)</th>\n",
       "      <th>percolator svm-score</th>\n",
       "    </tr>\n",
       "  </thead>\n",
       "  <tbody>\n",
       "    <tr>\n",
       "      <th>0</th>\n",
       "      <td>+229.163LASPSGSTSSGLEVVAPEGTSAPGGGPGTLDDSATIC+...</td>\n",
       "      <td>0.0</td>\n",
       "      <td>7.74287</td>\n",
       "    </tr>\n",
       "    <tr>\n",
       "      <th>1</th>\n",
       "      <td>+229.163ILTVEDHYYEGGIGEAVSSAVVGEPGITVTHLAVNR</td>\n",
       "      <td>0.0</td>\n",
       "      <td>7.68700</td>\n",
       "    </tr>\n",
       "    <tr>\n",
       "      <th>2</th>\n",
       "      <td>+229.163YDGMVGFSADETWDSAIDTWSPSEWQMAYEPQGGSGYD...</td>\n",
       "      <td>0.0</td>\n",
       "      <td>7.67900</td>\n",
       "    </tr>\n",
       "    <tr>\n",
       "      <th>3</th>\n",
       "      <td>+229.163AQAALQAVNSVQSGNLALAASAAAVDAGMAMAGQSPVLR</td>\n",
       "      <td>0.0</td>\n",
       "      <td>7.63900</td>\n",
       "    </tr>\n",
       "    <tr>\n",
       "      <th>4</th>\n",
       "      <td>+229.163TTSGYAGGLSSAYGGLTSPGLSYSLGSSFGSGAGSSSFSR</td>\n",
       "      <td>0.0</td>\n",
       "      <td>7.49200</td>\n",
       "    </tr>\n",
       "    <tr>\n",
       "      <th>...</th>\n",
       "      <td>...</td>\n",
       "      <td>...</td>\n",
       "      <td>...</td>\n",
       "    </tr>\n",
       "    <tr>\n",
       "      <th>270029</th>\n",
       "      <td>TGAGNPGVLITLPSFFTIIK+229.163</td>\n",
       "      <td>1.0</td>\n",
       "      <td>0.01600</td>\n",
       "    </tr>\n",
       "    <tr>\n",
       "      <th>270030</th>\n",
       "      <td>+229.163TRHTLEK+229.163</td>\n",
       "      <td>0.0</td>\n",
       "      <td>0.01600</td>\n",
       "    </tr>\n",
       "    <tr>\n",
       "      <th>270031</th>\n",
       "      <td>+229.163K+229.163PNFILLLK+229.163ALLLSSYGK+229...</td>\n",
       "      <td>0.0</td>\n",
       "      <td>0.01600</td>\n",
       "    </tr>\n",
       "    <tr>\n",
       "      <th>270032</th>\n",
       "      <td>+229.163TPVK+229.163FWFLK+229.163NYLSPTFK+229.163</td>\n",
       "      <td>0.0</td>\n",
       "      <td>0.01600</td>\n",
       "    </tr>\n",
       "    <tr>\n",
       "      <th>270033</th>\n",
       "      <td>+229.163K+229.163LGINSLQELK+229.163QNIAK+229.163</td>\n",
       "      <td>0.0</td>\n",
       "      <td>0.01600</td>\n",
       "    </tr>\n",
       "  </tbody>\n",
       "</table>\n",
       "<p>270034 rows × 3 columns</p>\n",
       "</div>"
      ],
      "text/plain": [
       "                                         Peptide sequence  Protein(s)  \\\n",
       "0       +229.163LASPSGSTSSGLEVVAPEGTSAPGGGPGTLDDSATIC+...         0.0   \n",
       "1            +229.163ILTVEDHYYEGGIGEAVSSAVVGEPGITVTHLAVNR         0.0   \n",
       "2       +229.163YDGMVGFSADETWDSAIDTWSPSEWQMAYEPQGGSGYD...         0.0   \n",
       "3         +229.163AQAALQAVNSVQSGNLALAASAAAVDAGMAMAGQSPVLR         0.0   \n",
       "4        +229.163TTSGYAGGLSSAYGGLTSPGLSYSLGSSFGSGAGSSSFSR         0.0   \n",
       "...                                                   ...         ...   \n",
       "270029                       TGAGNPGVLITLPSFFTIIK+229.163         1.0   \n",
       "270030                            +229.163TRHTLEK+229.163         0.0   \n",
       "270031  +229.163K+229.163PNFILLLK+229.163ALLLSSYGK+229...         0.0   \n",
       "270032  +229.163TPVK+229.163FWFLK+229.163NYLSPTFK+229.163         0.0   \n",
       "270033   +229.163K+229.163LGINSLQELK+229.163QNIAK+229.163         0.0   \n",
       "\n",
       "        percolator svm-score  \n",
       "0                    7.74287  \n",
       "1                    7.68700  \n",
       "2                    7.67900  \n",
       "3                    7.63900  \n",
       "4                    7.49200  \n",
       "...                      ...  \n",
       "270029               0.01600  \n",
       "270030               0.01600  \n",
       "270031               0.01600  \n",
       "270032               0.01600  \n",
       "270033               0.01600  \n",
       "\n",
       "[270034 rows x 3 columns]"
      ]
     },
     "execution_count": 59,
     "metadata": {},
     "output_type": "execute_result"
    }
   ],
   "source": [
    "sql_command = 'SELECT `Peptide sequence`,`Protein(s)`,`percolator svm-score` FROM data WHERE (`Peptide sequence`,`percolator svm-score`) IN (select `Peptide sequence`,MAX(`percolator svm-score`) FROM data GROUP BY `Peptide sequence`) AND (`PSM q-value` < %s) ORDER BY `percolator svm-score` DESC'%threshold\n",
    "df0 = pd.read_sql(sql_command, Database)\n",
    "df0\n"
   ]
  },
  {
   "cell_type": "code",
   "execution_count": 43,
   "metadata": {},
   "outputs": [
    {
     "data": {
      "text/plain": [
       "0.008999407485371704"
      ]
     },
     "execution_count": 43,
     "metadata": {},
     "output_type": "execute_result"
    }
   ],
   "source": [
    "max(df0['PSM q-value'])"
   ]
  },
  {
   "cell_type": "markdown",
   "metadata": {},
   "source": [
    "# parameter calculation (D)"
   ]
  },
  {
   "cell_type": "code",
   "execution_count": 31,
   "metadata": {},
   "outputs": [
    {
     "name": "stdout",
     "output_type": "stream",
     "text": [
      "D=4634\n"
     ]
    }
   ],
   "source": [
    "'''\n",
    "D = Database.execute(\"select `Protein(s)`,COUNT(`Protein(s)`) FROM data GROUP BY `Protein(s)` ORDER BY `Protein(s)` DESC\")\n",
    "D = list(D)\n",
    "\n",
    "if len(D) == 3:\n",
    "    D = D[0][1]+D[1][1]\n",
    "elif len(D) == 2:\n",
    "    D = D[0][1]\n",
    "    \n",
    "print('D=%s'%D)\n",
    "'''"
   ]
  },
  {
   "cell_type": "markdown",
   "metadata": {},
   "source": [
    "# [DataFrame] p-value(peptide) & q-value(peptide)"
   ]
  },
  {
   "cell_type": "code",
   "execution_count": 68,
   "metadata": {},
   "outputs": [
    {
     "name": "stdout",
     "output_type": "stream",
     "text": [
      "9.8\n"
     ]
    }
   ],
   "source": [
    "'''\n",
    "df0 = pd.read_sql('SELECT * FROM data ORDER BY `percolator svm-score` DESC', Database)\n",
    "\n",
    "p_value = []\n",
    "q_value = []\n",
    "d = 0\n",
    "d_dict = {1.0:1,0.5:1,0.0:0}\n",
    "svm_score_change = df0.at[0,'percolator svm-score'] + 1\n",
    "t = 0\n",
    "t_dict = {1.0:0,0.5:1,0.0:1}\n",
    "\n",
    "start = time.time()\n",
    "for i in range(len(df0)):\n",
    "    k = -df0.at[i,'Protein(s)']\n",
    "    if k != -0.5:\n",
    "        k = k + 0.5\n",
    "    svm_score = df0.at[i,'percolator svm-score']\n",
    "    if svm_score < svm_score_change:\n",
    "        d += sum([d_dict[j] for j in df0.loc[df0['percolator svm-score'] == svm_score,'Protein(s)']])\n",
    "        t += sum([t_dict[j] for j in df0.loc[df0['percolator svm-score'] == svm_score,'Protein(s)']])\n",
    "        svm_score_change = svm_score\n",
    "    p_value.append((d+k)/D)\n",
    "    q_value.append(d/t)\n",
    "df0['p-value'] = p_value    \n",
    "df0['q-value'] = q_value\n",
    "\n",
    "end = time.time()\n",
    "print('%.1f'%(end-start))\n",
    "'''"
   ]
  },
  {
   "cell_type": "markdown",
   "metadata": {},
   "source": [
    "# [Cursor] p-value(peptide) & q-value(peptide)"
   ]
  },
  {
   "cell_type": "code",
   "execution_count": 11,
   "metadata": {},
   "outputs": [
    {
     "name": "stdout",
     "output_type": "stream",
     "text": [
      "Length of Data = 272983\n"
     ]
    }
   ],
   "source": [
    "#資料庫長度\n",
    "length = Database.execute(\"select COUNT(`Peptide sequence`) FROM data WHERE (`Peptide sequence`,`percolator svm-score`) IN (select `Peptide sequence`,MAX(`percolator svm-score`) from data GROUP BY `Peptide sequence`)\")\n",
    "length = list(length)[0][0]\n",
    "print('Length of Data = %s'%length)"
   ]
  },
  {
   "cell_type": "code",
   "execution_count": 25,
   "metadata": {},
   "outputs": [
    {
     "name": "stdout",
     "output_type": "stream",
     "text": [
      "time-used:1.9 sec.\n"
     ]
    }
   ],
   "source": [
    "#建立cursor庫\n",
    "c = Database.cursor()\n",
    "\n",
    "#降序排列放到cursor庫\n",
    "sql_command = 'SELECT `Peptide sequence`,`Protein(s)`,`percolator svm-score` FROM data WHERE (`Peptide sequence`,`percolator svm-score`) IN (select `Peptide sequence`,MAX(`percolator svm-score`) FROM data GROUP BY `Peptide sequence`) ORDER BY `percolator svm-score` DESC'\n",
    "c.execute(sql_command)\n",
    "\n",
    "#max(SVM-score)+1\n",
    "svm_score_change = Database.execute('SELECT MAX(`percolator svm-score`) FROM data')\n",
    "svm_score_change = list(svm_score_change)[0][0]\n",
    "\n",
    "\n",
    "#暫存\n",
    "Peptide = []\n",
    "d_list = []\n",
    "t_list = []\n",
    "k_list = []\n",
    "#p_value = []\n",
    "#q_value = []\n",
    "d = 0\n",
    "t = 0\n",
    "d_dict = {1.0:1,0.5:1,0.0:0}\n",
    "k_dict = {1.0:-0.5,0.5:-0.5,0.0:0.5}\n",
    "t_dict = {1.0:0,0.5:1,0.0:1}\n",
    "\n",
    "\n",
    "#建立txt檔案\n",
    "txt = open('./test.csv','w')\n",
    "txt.write('Peptide sequence,p-value,q-value\\n')\n",
    "\n",
    "#計算D\n",
    "D = Database.execute(\"select `Protein(s)`,COUNT(`Protein(s)`) FROM data WHERE (`Peptide sequence`,`percolator svm-score`) IN (select `Peptide sequence`,MAX(`percolator svm-score`) from data GROUP BY `Peptide sequence`) GROUP BY `Protein(s)` ORDER BY `Protein(s)` DESC\")\n",
    "D = list(D)\n",
    "if len(D) == 3:\n",
    "    D = D[0][1]+D[1][1]\n",
    "elif len(D) == 2:\n",
    "    D = D[0][1]\n",
    "    \n",
    "#開始迴圈計算\n",
    "start = time.time()\n",
    "for i in range(length):\n",
    "    peptide,protein,score = c.fetchone()\n",
    "    if score == svm_score_change:\n",
    "        Peptide.append(peptide)\n",
    "        d_list.append(d_dict[protein])\n",
    "        t_list.append(t_dict[protein])\n",
    "        k_list.append(k_dict[protein])\n",
    "    else:\n",
    "        #計算\n",
    "        d += sum(d_list)\n",
    "        t += sum(t_list)\n",
    "        rep_number = len(Peptide)\n",
    "        p_value = (np.repeat(d,rep_number) + np.array(k_list)) / D\n",
    "        if t != 0:\n",
    "            q_value = np.repeat(d/t,rep_number)\n",
    "        else:\n",
    "            q_value = np.repeat('',rep_number)\n",
    "        \n",
    "        #寫檔\n",
    "        w = ''.join([m+','+str(n)+','+str(o)+'\\n' for m,n,o in zip(Peptide,p_value,q_value)])\n",
    "        txt.write(w)\n",
    "        \n",
    "        #清除list\n",
    "        Peptide = [peptide]\n",
    "        d_list = [d_dict[protein]]\n",
    "        t_list = [t_dict[protein]]\n",
    "        k_list = [k_dict[protein]]\n",
    "        svm_score_change = score\n",
    "    #計算最後一個\n",
    "    if i == length-1:\n",
    "        #計算\n",
    "        d += sum(d_list)\n",
    "        t += sum(t_list)\n",
    "        rep_number = len(Peptide)\n",
    "        p_value = (np.repeat(d,rep_number) + np.array(k_list)) / D\n",
    "        q_value = np.repeat(d/t,rep_number)\n",
    "        \n",
    "        #寫檔\n",
    "        w = ''.join([m+','+str(n)+','+str(o)+'\\n' for m,n,o in zip(Peptide,p_value,q_value)])\n",
    "        txt.write(w)\n",
    "        txt.close()\n",
    "end = time.time()\n",
    "print('time-used:%.1f sec.'%(end-start))"
   ]
  },
  {
   "cell_type": "code",
   "execution_count": 77,
   "metadata": {},
   "outputs": [],
   "source": [
    "Database.close()"
   ]
  },
  {
   "cell_type": "code",
   "execution_count": 9,
   "metadata": {},
   "outputs": [
    {
     "data": {
      "text/plain": [
       "''"
      ]
     },
     "execution_count": 9,
     "metadata": {},
     "output_type": "execute_result"
    }
   ],
   "source": [
    "str(x)"
   ]
  },
  {
   "cell_type": "code",
   "execution_count": 12,
   "metadata": {},
   "outputs": [],
   "source": [
    "f1 = pd.read_csv('./input/%s'%ID[0],sep='\\t',header=0,\n",
    "                 usecols=['Peptide sequence', 'Protein(s)','percolator svm-score'],\n",
    "                 converters={'Protein(s)':TDcheck})"
   ]
  },
  {
   "cell_type": "code",
   "execution_count": 13,
   "metadata": {},
   "outputs": [],
   "source": [
    "f2 = pd.read_csv('./input/%s'%ID[1],sep='\\t',header=0,\n",
    "                 usecols=['Peptide sequence', 'Protein(s)','percolator svm-score'],\n",
    "                 converters={'Protein(s)':TDcheck})"
   ]
  },
  {
   "cell_type": "code",
   "execution_count": 18,
   "metadata": {},
   "outputs": [
    {
     "data": {
      "text/html": [
       "<div>\n",
       "<style scoped>\n",
       "    .dataframe tbody tr th:only-of-type {\n",
       "        vertical-align: middle;\n",
       "    }\n",
       "\n",
       "    .dataframe tbody tr th {\n",
       "        vertical-align: top;\n",
       "    }\n",
       "\n",
       "    .dataframe thead th {\n",
       "        text-align: right;\n",
       "    }\n",
       "</style>\n",
       "<table border=\"1\" class=\"dataframe\">\n",
       "  <thead>\n",
       "    <tr style=\"text-align: right;\">\n",
       "      <th></th>\n",
       "      <th>Peptide sequence</th>\n",
       "      <th>Protein(s)</th>\n",
       "      <th>percolator svm-score</th>\n",
       "    </tr>\n",
       "  </thead>\n",
       "  <tbody>\n",
       "    <tr>\n",
       "      <th>0</th>\n",
       "      <td>+42.011M+15.995DGFAGSLDDSISAASTSDVQDR</td>\n",
       "      <td>0.0</td>\n",
       "      <td>4.837</td>\n",
       "    </tr>\n",
       "    <tr>\n",
       "      <th>1</th>\n",
       "      <td>+42.011MLTDSGGGGTSFEEDLDSVAPR</td>\n",
       "      <td>0.0</td>\n",
       "      <td>4.566</td>\n",
       "    </tr>\n",
       "    <tr>\n",
       "      <th>2</th>\n",
       "      <td>-17.027QGQIIYNWQGAQSTQDEVAASAILTAQLDEELGGTPVQSR</td>\n",
       "      <td>0.0</td>\n",
       "      <td>4.973</td>\n",
       "    </tr>\n",
       "    <tr>\n",
       "      <th>3</th>\n",
       "      <td>+42.011MDGFAGSLDDSISAASTSDVQDR</td>\n",
       "      <td>0.0</td>\n",
       "      <td>4.497</td>\n",
       "    </tr>\n",
       "    <tr>\n",
       "      <th>4</th>\n",
       "      <td>-17.027QITAQAWDGTTDYQVEETSR</td>\n",
       "      <td>0.0</td>\n",
       "      <td>4.163</td>\n",
       "    </tr>\n",
       "    <tr>\n",
       "      <th>...</th>\n",
       "      <td>...</td>\n",
       "      <td>...</td>\n",
       "      <td>...</td>\n",
       "    </tr>\n",
       "    <tr>\n",
       "      <th>221117</th>\n",
       "      <td>+229.163HLVGVC+45.988YTEDEAK+229.163ELAAEVEVQD...</td>\n",
       "      <td>0.0</td>\n",
       "      <td>0.307</td>\n",
       "    </tr>\n",
       "    <tr>\n",
       "      <th>221118</th>\n",
       "      <td>+229.163HNK+229.163ELQSMLK+229.163PGGQVDGDEALE...</td>\n",
       "      <td>0.0</td>\n",
       "      <td>0.133</td>\n",
       "    </tr>\n",
       "    <tr>\n",
       "      <th>221119</th>\n",
       "      <td>+229.163NRPSVPPPPQPPGVHSAGDSSLTNTAPTASK+229.163</td>\n",
       "      <td>0.0</td>\n",
       "      <td>0.272</td>\n",
       "    </tr>\n",
       "    <tr>\n",
       "      <th>221120</th>\n",
       "      <td>+229.163APLNVTNTAGTSLPSVDLLQK+229.163LRLTPQHDQ...</td>\n",
       "      <td>0.0</td>\n",
       "      <td>0.049</td>\n",
       "    </tr>\n",
       "    <tr>\n",
       "      <th>221121</th>\n",
       "      <td>+229.163VLVPGIPGHHAAIK+229.163PAPPQTEQVESK+229...</td>\n",
       "      <td>0.0</td>\n",
       "      <td>0.041</td>\n",
       "    </tr>\n",
       "  </tbody>\n",
       "</table>\n",
       "<p>221122 rows × 3 columns</p>\n",
       "</div>"
      ],
      "text/plain": [
       "                                         Peptide sequence  Protein(s)  \\\n",
       "0                   +42.011M+15.995DGFAGSLDDSISAASTSDVQDR         0.0   \n",
       "1                           +42.011MLTDSGGGGTSFEEDLDSVAPR         0.0   \n",
       "2         -17.027QGQIIYNWQGAQSTQDEVAASAILTAQLDEELGGTPVQSR         0.0   \n",
       "3                          +42.011MDGFAGSLDDSISAASTSDVQDR         0.0   \n",
       "4                             -17.027QITAQAWDGTTDYQVEETSR         0.0   \n",
       "...                                                   ...         ...   \n",
       "221117  +229.163HLVGVC+45.988YTEDEAK+229.163ELAAEVEVQD...         0.0   \n",
       "221118  +229.163HNK+229.163ELQSMLK+229.163PGGQVDGDEALE...         0.0   \n",
       "221119    +229.163NRPSVPPPPQPPGVHSAGDSSLTNTAPTASK+229.163         0.0   \n",
       "221120  +229.163APLNVTNTAGTSLPSVDLLQK+229.163LRLTPQHDQ...         0.0   \n",
       "221121  +229.163VLVPGIPGHHAAIK+229.163PAPPQTEQVESK+229...         0.0   \n",
       "\n",
       "        percolator svm-score  \n",
       "0                      4.837  \n",
       "1                      4.566  \n",
       "2                      4.973  \n",
       "3                      4.497  \n",
       "4                      4.163  \n",
       "...                      ...  \n",
       "221117                 0.307  \n",
       "221118                 0.133  \n",
       "221119                 0.272  \n",
       "221120                 0.049  \n",
       "221121                 0.041  \n",
       "\n",
       "[221122 rows x 3 columns]"
      ]
     },
     "execution_count": 18,
     "metadata": {},
     "output_type": "execute_result"
    }
   ],
   "source": [
    "f2"
   ]
  },
  {
   "cell_type": "code",
   "execution_count": 22,
   "metadata": {},
   "outputs": [
    {
     "data": {
      "text/plain": [
       "272983"
      ]
     },
     "execution_count": 22,
     "metadata": {},
     "output_type": "execute_result"
    }
   ],
   "source": [
    "len(set(list(f1['Peptide sequence']) +list(f2['Peptide sequence'])))"
   ]
  },
  {
   "cell_type": "code",
   "execution_count": 7,
   "metadata": {},
   "outputs": [
    {
     "data": {
      "text/plain": [
       "'BCKAKDROFDHDL'"
      ]
     },
     "execution_count": 7,
     "metadata": {},
     "output_type": "execute_result"
    }
   ],
   "source": [
    "x = '+24219.2BCKAKDRO+23.233FDHDL'\n",
    "''.join([i for i in x if i.isalpha()])"
   ]
  },
  {
   "cell_type": "code",
   "execution_count": null,
   "metadata": {},
   "outputs": [],
   "source": [
    "#未來可做\n",
    "APPEND一個完，選取最大，刪掉原本的DB，創立新的DB。"
   ]
  },
  {
   "cell_type": "code",
   "execution_count": 6,
   "metadata": {},
   "outputs": [
    {
     "data": {
      "text/plain": [
       "['+',\n",
       " '2',\n",
       " '4',\n",
       " '2',\n",
       " '1',\n",
       " '9',\n",
       " '.',\n",
       " '2',\n",
       " 'B',\n",
       " 'C',\n",
       " 'K',\n",
       " 'A',\n",
       " 'K',\n",
       " 'D',\n",
       " 'R',\n",
       " 'O',\n",
       " '+',\n",
       " '2',\n",
       " '3',\n",
       " '.',\n",
       " '2',\n",
       " '3',\n",
       " '3',\n",
       " 'F',\n",
       " 'D',\n",
       " 'H',\n",
       " 'D',\n",
       " 'L']"
      ]
     },
     "execution_count": 6,
     "metadata": {},
     "output_type": "execute_result"
    }
   ],
   "source": [
    "[i for i in x if i.isalpha]"
   ]
  },
  {
   "cell_type": "code",
   "execution_count": null,
   "metadata": {},
   "outputs": [],
   "source": [
    "x = '+'\n",
    "x.isapl"
   ]
  }
 ],
 "metadata": {
  "kernelspec": {
   "display_name": "Python 3",
   "language": "python",
   "name": "python3"
  },
  "language_info": {
   "codemirror_mode": {
    "name": "ipython",
    "version": 3
   },
   "file_extension": ".py",
   "mimetype": "text/x-python",
   "name": "python",
   "nbconvert_exporter": "python",
   "pygments_lexer": "ipython3",
   "version": "3.8.8"
  }
 },
 "nbformat": 4,
 "nbformat_minor": 4
}
