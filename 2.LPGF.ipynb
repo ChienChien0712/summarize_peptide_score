{
 "cells": [
  {
   "cell_type": "code",
   "execution_count": 1,
   "metadata": {},
   "outputs": [],
   "source": [
    "from scipy.stats import gamma\n",
    "import matplotlib.pyplot as plt\n",
    "import numpy as np\n",
    "import pandas as pd\n",
    "from scipy.special import comb\n",
    "import os\n",
    "import time"
   ]
  },
  {
   "cell_type": "code",
   "execution_count": 2,
   "metadata": {},
   "outputs": [],
   "source": [
    "plt.rcParams['figure.figsize'] = [10,10]\n",
    "plt.rcParams['figure.dpi'] = 100"
   ]
  },
  {
   "cell_type": "code",
   "execution_count": 3,
   "metadata": {},
   "outputs": [],
   "source": [
    "filename = '[condition 2] The protein-peptide table for Result from [neo4j] Start neo4j database'"
   ]
  },
  {
   "cell_type": "markdown",
   "metadata": {},
   "source": [
    "# Read"
   ]
  },
  {
   "cell_type": "code",
   "execution_count": 4,
   "metadata": {},
   "outputs": [
    {
     "name": "stderr",
     "output_type": "stream",
     "text": [
      "C:\\Users\\chienhua\\anaconda3\\lib\\site-packages\\ipykernel_launcher.py:104: RuntimeWarning: divide by zero encountered in log10\n",
      "C:\\Users\\chienhua\\anaconda3\\lib\\site-packages\\ipykernel_launcher.py:104: RuntimeWarning: invalid value encountered in double_scalars\n",
      "C:\\Users\\chienhua\\anaconda3\\lib\\site-packages\\ipykernel_launcher.py:116: RuntimeWarning: divide by zero encountered in log10\n"
     ]
    },
    {
     "name": "stdout",
     "output_type": "stream",
     "text": [
      "used 8.19 sec.\n"
     ]
    }
   ],
   "source": [
    "start = time.time()\n",
    "\n",
    "if filename not in os.listdir('./output2'):\n",
    "    os.mkdir('./output2/%s'%filename)\n",
    "f = open('./input2/%s.tsv'%filename,'r')\n",
    "\n",
    "f.readline()#不要的\n",
    "\n",
    "f_write = open('./output2/%s/2.LPGF.csv'%filename,'w')\n",
    "f_write.write('p.accession,p.type,target.LPGF,decoy.LPGF\\n')\n",
    "\n",
    "#Create list\n",
    "p_accession_ls = []\n",
    "p_type_ls = []\n",
    "target_LPGF_ls = []\n",
    "decoy_LPGF_ls = []\n",
    "\n",
    "#第一個\n",
    "f1 = f.readline()\n",
    "f1 = f1.strip().split('\\t')\n",
    "protein = f1[0]\n",
    "ptype = f1[1]\n",
    "if (f1[3] == 'target')&(f1[5] == 'true'):\n",
    "    score_T_True = [float(f1[4])]\n",
    "    score_T_False = []\n",
    "    score_D_True = []\n",
    "    score_D_False = []       \n",
    "elif (f1[3] == 'decoy')&(f1[5] == 'true'):\n",
    "    score_T_True = []\n",
    "    score_T_False = []    \n",
    "    score_D_True = [float(f1[4])]\n",
    "    score_D_False = []    \n",
    "elif (f1[3] == 'target')&(f1[5] == 'false'):\n",
    "    score_T_True = []\n",
    "    score_T_False = [float(f1[4])]\n",
    "    score_D_True = []\n",
    "    score_D_False = []   \n",
    "elif (f1[3] == 'decoy')&(f1[5] == 'false'):\n",
    "    score_T_True = []\n",
    "    score_T_False = []     \n",
    "    score_D_True = []\n",
    "    score_D_False = [float(f1[4])]    \n",
    "\n",
    "#第二個以後\n",
    "while True:\n",
    "    f1 = f.readline()\n",
    "    if f1 == '':\n",
    "        #算最後\n",
    "        #計算Target\n",
    "        LPF = sum(score_T_True)\n",
    "        m = len(score_T_True)\n",
    "        n = m + len(score_T_False)\n",
    "        if m > 0:\n",
    "            LPGF_target = -np.log10((1-gamma.cdf(LPF*np.log(10), a=m, scale=1))*comb(n,m))\n",
    "        else:\n",
    "            if n != 0:\n",
    "                LPM = max(score_T_True+score_T_False)\n",
    "                LPGF_target = -np.log10(1-(1-10**(-LPM))**n)\n",
    "            else:\n",
    "                LPGF_target = 'NA'\n",
    "        #計算Decoy\n",
    "        LPF = sum(score_D_True)\n",
    "        m = len(score_D_True)\n",
    "        n = m + len(score_D_False)\n",
    "        if m > 0:\n",
    "            LPGF_decoy = -np.log10((1-gamma.cdf(LPF*np.log(10), a=m, scale=1))*comb(n,m))\n",
    "        else:\n",
    "            if n != 0:\n",
    "                LPM = max(score_D_True+score_D_False)\n",
    "                LPGF_decoy = -np.log10(1-(1-10**(-LPM))**n)\n",
    "            else:\n",
    "                LPGF_decoy = 'NA'\n",
    "        f_write.write('%s,%s,%s,%s\\n'%(protein,ptype,LPGF_target,LPGF_decoy))  \n",
    "        p_accession_ls.append(protein)\n",
    "        p_type_ls.append(ptype)\n",
    "        target_LPGF_ls.append(LPGF_target)\n",
    "        decoy_LPGF_ls.append(LPGF_decoy)\n",
    "        #關閉\n",
    "        f.close()\n",
    "        break\n",
    "        \n",
    "        \n",
    "        \n",
    "    f1 = f1.strip().split('\\t')\n",
    "\n",
    "    \n",
    "    #如果蛋白一樣就儲存\n",
    "    if f1[0] == protein:\n",
    "        if (f1[3] == 'target')&(f1[5] == 'true'):\n",
    "            score_T_True.append(float(f1[4]))\n",
    "        elif (f1[3] == 'decoy')&(f1[5] == 'true'):\n",
    "            score_D_True.append(float(f1[4]))\n",
    "        elif (f1[3] == 'target')&(f1[5] == 'false'):\n",
    "            score_T_False.append(float(f1[4]))\n",
    "        elif (f1[3] == 'decoy')&(f1[5] == 'false'):\n",
    "            score_D_False.append(float(f1[4]))    \n",
    "    #如果蛋白不一樣就計算 + 寫 + 儲存新的\n",
    "    else:\n",
    "        #計算Target\n",
    "        LPF = sum(score_T_True)\n",
    "        m = len(score_T_True)\n",
    "        n = m + len(score_T_False)\n",
    "        if m > 0:\n",
    "            LPGF_target = -np.log10((1-gamma.cdf(LPF*np.log(10), a=m, scale=1))*comb(n,m))\n",
    "        else:\n",
    "            if n != 0:\n",
    "                LPM = max(score_T_True+score_T_False)\n",
    "                LPGF_target = -np.log10(1-(1-10**(-LPM))**n)\n",
    "            else:\n",
    "                LPGF_target = 'NA'\n",
    "        #計算Decoy\n",
    "        LPF = sum(score_D_True)\n",
    "        m = len(score_D_True)\n",
    "        n = m + len(score_D_False)\n",
    "        if m > 0:\n",
    "            LPGF_decoy = -np.log10((1-gamma.cdf(LPF*np.log(10), a=m, scale=1))*comb(n,m))\n",
    "        else:\n",
    "            if n != 0:\n",
    "                LPM = max(score_D_True+score_D_False)\n",
    "                LPGF_decoy = -np.log10(1-(1-10**(-LPM))**n)\n",
    "            else:\n",
    "                LPGF_decoy = 'NA'\n",
    "        f_write.write('%s,%s,%s,%s\\n'%(protein,ptype,LPGF_target,LPGF_decoy))     \n",
    "        p_accession_ls.append(protein)\n",
    "        p_type_ls.append(ptype)\n",
    "        target_LPGF_ls.append(LPGF_target)\n",
    "        decoy_LPGF_ls.append(LPGF_decoy)        \n",
    "        \n",
    "        #儲存新的\n",
    "        protein = f1[0]\n",
    "        ptype = f1[1]\n",
    "        if (f1[3] == 'target')&(f1[5] == 'true'):\n",
    "            score_T_True = [float(f1[4])]\n",
    "            score_T_False = []\n",
    "            score_D_True = []\n",
    "            score_D_False = []       \n",
    "        elif (f1[3] == 'decoy')&(f1[5] == 'true'):\n",
    "            score_T_True = []\n",
    "            score_T_False = []    \n",
    "            score_D_True = [float(f1[4])]\n",
    "            score_D_False = []    \n",
    "        elif (f1[3] == 'target')&(f1[5] == 'false'):\n",
    "            score_T_True = []\n",
    "            score_T_False = [float(f1[4])]\n",
    "            score_D_True = []\n",
    "            score_D_False = []   \n",
    "        elif (f1[3] == 'decoy')&(f1[5] == 'false'):\n",
    "            score_T_True = []\n",
    "            score_T_False = []     \n",
    "            score_D_True = []\n",
    "            score_D_False = [float(f1[4])]    \n",
    "f_write.close()\n",
    "\n",
    "\n",
    "end = time.time()\n",
    "print('used %.2f sec.'%(end-start))"
   ]
  },
  {
   "cell_type": "code",
   "execution_count": 21,
   "metadata": {},
   "outputs": [
    {
     "data": {
      "text/plain": [
       "-3.1038148338520326"
      ]
     },
     "execution_count": 21,
     "metadata": {},
     "output_type": "execute_result"
    }
   ],
   "source": [
    "min([i for i in target_LPGF_ls if (str(i)!='inf')&(i!='NA')])"
   ]
  },
  {
   "cell_type": "code",
   "execution_count": 23,
   "metadata": {},
   "outputs": [],
   "source": [
    "Target_score = target_LPGF_ls.copy()\n",
    "Decoy_score = decoy_LPGF_ls.copy()\n",
    "#轉換Target\n",
    "Target_score_rmInf_rmNA = []\n",
    "max_score = max([i for i in target_LPGF_ls if (str(i)!='inf')&(i!='NA')])\n",
    "min_score = min([i for i in target_LPGF_ls if (str(i)!='inf')&(i!='NA')])\n",
    "for i in Target_score:\n",
    "    if str(i) == 'inf':\n",
    "        Target_score_rmInf_rmNA.append(max_score+1)\n",
    "    elif str(i) == 'NA':\n",
    "        Target_score_rmInf_rmNA.append(min_score-1)\n",
    "    else:\n",
    "        Target_score_rmInf_rmNA.append(i)   \n",
    "        \n",
    "#轉換Decoy\n",
    "Decoy_score_rmInf_rmNA = []\n",
    "max_score = max([i for i in decoy_LPGF_ls if (str(i)!='inf')&(i!='NA')])\n",
    "min_score = min([i for i in decoy_LPGF_ls if (str(i)!='inf')&(i!='NA')])\n",
    "for i in Decoy_score:\n",
    "    if str(i) == 'inf':\n",
    "        Decoy_score_rmInf_rmNA.append(max_score+1)\n",
    "    elif str(i) == 'NA':\n",
    "        Decoy_score_rmInf_rmNA.append(min_score-1)\n",
    "    else:\n",
    "        Decoy_score_rmInf_rmNA.append(i)  "
   ]
  },
  {
   "cell_type": "markdown",
   "metadata": {},
   "source": [
    "# CHECK\n",
    "### 檢查peptide序列是否有重複assign到不同的蛋白質"
   ]
  },
  {
   "cell_type": "code",
   "execution_count": 5,
   "metadata": {},
   "outputs": [],
   "source": [
    "f1 = pd.read_csv('./input2/%s.tsv'%filename,sep='\\t')"
   ]
  },
  {
   "cell_type": "code",
   "execution_count": 8,
   "metadata": {},
   "outputs": [],
   "source": [
    "f2 = f1[f1.duplicated(['pep.modpepseq'],keep=False)]\n",
    "f2_target = f2[f2['cs.type']=='target']\n",
    "f2_target = f2_target[f2_target .duplicated(['pep.modpepseq'],keep=False)]\n",
    "del f1, f2"
   ]
  },
  {
   "cell_type": "code",
   "execution_count": 9,
   "metadata": {},
   "outputs": [
    {
     "name": "stdout",
     "output_type": "stream",
     "text": [
      "Error Number of Peptide Counts=0\n"
     ]
    }
   ],
   "source": [
    "PEP = np.unique(f2_target['pep.modpepseq'])\n",
    "\n",
    "f3 = open('./output2/%s/(CHECK)one-peptide-to-mutiple-protein.csv'%filename,'w')\n",
    "f3.write('pep.modpepseq,p.accession,cs.type\\n')\n",
    "err_count = 0\n",
    "\n",
    "if len(PEP)!= 0:\n",
    "    for pep in PEP:\n",
    "        if sorted(list(f2_target[f2_target['pep.modpepseq']==pep]['cs.type'])) == ['decoy','target']:\n",
    "            #print(pep,'OK')\n",
    "            continue\n",
    "        elif list(set(f2_target[f2_target['pep.modpepseq']==pep]['cs.type'])) == ['decoy']:\n",
    "            continue\n",
    "        else:\n",
    "            err_count +=1\n",
    "            proteins = ';'.join(list(f2_target[f2_target['pep.modpepseq']==pep]['p.accession']))\n",
    "            cstype = ';'.join(list(f2_target[f2_target['pep.modpepseq']==pep]['cs.type']))\n",
    "            f3.write('%s,%s,%s\\n'%(pep,proteins,cstype))\n",
    "            \n",
    "f3.close()\n",
    "print('Error Number of Peptide Counts=%s'%err_count)"
   ]
  },
  {
   "cell_type": "code",
   "execution_count": 49,
   "metadata": {},
   "outputs": [],
   "source": []
  },
  {
   "cell_type": "code",
   "execution_count": null,
   "metadata": {},
   "outputs": [],
   "source": []
  },
  {
   "cell_type": "code",
   "execution_count": null,
   "metadata": {},
   "outputs": [],
   "source": []
  },
  {
   "cell_type": "code",
   "execution_count": null,
   "metadata": {},
   "outputs": [],
   "source": []
  },
  {
   "cell_type": "code",
   "execution_count": null,
   "metadata": {},
   "outputs": [],
   "source": []
  }
 ],
 "metadata": {
  "kernelspec": {
   "display_name": "Python 3",
   "language": "python",
   "name": "python3"
  },
  "language_info": {
   "codemirror_mode": {
    "name": "ipython",
    "version": 3
   },
   "file_extension": ".py",
   "mimetype": "text/x-python",
   "name": "python",
   "nbconvert_exporter": "python",
   "pygments_lexer": "ipython3",
   "version": "3.7.6"
  }
 },
 "nbformat": 4,
 "nbformat_minor": 4
}
